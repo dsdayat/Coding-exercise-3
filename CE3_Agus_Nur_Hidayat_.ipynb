{
  "nbformat": 4,
  "nbformat_minor": 0,
  "metadata": {
    "kernelspec": {
      "display_name": "Python 3",
      "language": "python",
      "name": "python3"
    },
    "language_info": {
      "codemirror_mode": {
        "name": "ipython",
        "version": 3
      },
      "file_extension": ".py",
      "mimetype": "text/x-python",
      "name": "python",
      "nbconvert_exporter": "python",
      "pygments_lexer": "ipython3",
      "version": "3.7.0"
    },
    "colab": {
      "provenance": [],
      "collapsed_sections": [],
      "include_colab_link": true
    }
  },
  "cells": [
    {
      "cell_type": "markdown",
      "metadata": {
        "id": "view-in-github",
        "colab_type": "text"
      },
      "source": [
        "<a href=\"https://colab.research.google.com/github/dsdayat/Coding-exercise-3/blob/main/CE3_Agus_Nur_Hidayat_.ipynb\" target=\"_parent\"><img src=\"https://colab.research.google.com/assets/colab-badge.svg\" alt=\"Open In Colab\"/></a>"
      ]
    },
    {
      "cell_type": "markdown",
      "metadata": {
        "id": "hhIQeEv4JdpK"
      },
      "source": [
        "## Welcome to the Week 3 Coding Challenge!\n",
        "### This week's theme is: String! \n",
        "\n",
        "From this week forward, your function initialization method will not be given. You should figure it out by yourself. Keep up the good work!\n",
        "\n",
        "You only need **solve 2 question**!"
      ]
    },
    {
      "cell_type": "markdown",
      "metadata": {
        "id": "ZwHc-3vSJdpj"
      },
      "source": [
        "Problem 1: Find the amount of substring."
      ]
    },
    {
      "cell_type": "markdown",
      "metadata": {
        "id": "_rD65MuvJdpm"
      },
      "source": [
        "Create a function whose name is ```substring_count``` that does the following: \n",
        "\n",
        "Given a string and a substring. Count how many times the substring appears in the string. The first input is always the string (the longer one), and the second input is always the substring (the shorter one).\n",
        "\n",
        "##### Example 1:\n",
        "\n",
        "Input:\n",
        "\n",
        "string = 'ABCDCDC'\n",
        "\n",
        "substring = 'CD'\n",
        "\n",
        "How many times 'CD' appears in 'ABCDCDC'? \n",
        "2 times! So when we run ```substring_count('ABCDCDC', 'CD')``` the output will be '2'. \n",
        "\n",
        "Output: 2\n",
        "\n",
        "##### Example 2:\n",
        "\n",
        "String:\n",
        "\n",
        "string = 'ABCDCDC'\n",
        "\n",
        "substring = 'CDC'\n",
        "\n",
        "How many times 'CDC' appears in 'ABCDCDC'?\n",
        "2 times! Yes, it can overlap. AB**CDC**DC, and ABCD**CDC**. So when we run ```substring_count('ABCDCDC', 'CDC')``` the output will be '2'. \n",
        "\n",
        "Output: 2\n",
        "\n",
        "##### Example 3:\n",
        "\n",
        "string = 'DEDFDEDEDEG'\n",
        "\n",
        "substring = 'DED'\n",
        "\n",
        "How many times 'DED' appears in 'DEDFDEDEDEG'?\n",
        "3 times! First: **DED**FDEDEDEG. Second: DEDF**DED**EDEG. Third: DEDFDE**DED**EG.\n",
        "\n",
        "Output: 3"
      ]
    },
    {
      "cell_type": "code",
      "source": [
        "### Write your solution here ###\n",
        "# Create a function called substring_count"
      ],
      "metadata": {
        "id": "n78-Ek1cf4SH"
      },
      "execution_count": null,
      "outputs": []
    },
    {
      "cell_type": "markdown",
      "source": [
        "Don't change the code below, please use it to check your answer"
      ],
      "metadata": {
        "id": "dys3zNGnEshK"
      }
    },
    {
      "cell_type": "code",
      "metadata": {
        "id": "yoKZfAGPcv_9",
        "colab": {
          "base_uri": "https://localhost:8080/"
        },
        "outputId": "42293e4b-0096-494c-c966-eb71737fb203"
      },
      "source": [
        "string = 'DIBIMBING'\n",
        "substring = 'BI'\n",
        "\n",
        "def substring_count(string, substring):\n",
        "    l=len(substring)\n",
        "    count=0\n",
        "    for i in range(len(string)-len(substring)+1):\n",
        "        if(string[i:i+len(substring)] == substring ):      \n",
        "            count+=1\n",
        "    return count  \n",
        "\n",
        "print(substring_count(string, substring))\n",
        "    \n",
        "## Expected Output: 2"
      ],
      "execution_count": 19,
      "outputs": [
        {
          "output_type": "stream",
          "name": "stdout",
          "text": [
            "2\n"
          ]
        }
      ]
    },
    {
      "cell_type": "code",
      "metadata": {
        "id": "LUrgBz99cv_-",
        "outputId": "e67b7857-ca13-4ad7-90e2-f46c071535d2",
        "colab": {
          "base_uri": "https://localhost:8080/"
        }
      },
      "source": [
        "string = 'DIBIMIMIMING'\n",
        "substring = 'IMI'\n",
        "\n",
        "def substring_count(string, substring):\n",
        "    l=len(substring)\n",
        "    count=0\n",
        "    for i in range(len(string)-len(substring)+1):\n",
        "        if(string[i:i+len(substring)] == substring ):      \n",
        "            count+=1\n",
        "    return count  \n",
        "\n",
        "print(substring_count(string, substring))\n",
        "## Expected Output: 3"
      ],
      "execution_count": 28,
      "outputs": [
        {
          "output_type": "stream",
          "name": "stdout",
          "text": [
            "3\n"
          ]
        }
      ]
    },
    {
      "cell_type": "code",
      "metadata": {
        "id": "UWKguWS1cv__",
        "outputId": "5dd5dd14-d859-4743-ce98-fc3a3d620305",
        "colab": {
          "base_uri": "https://localhost:8080/"
        }
      },
      "source": [
        "string = 'DIDIDBIMBIDID'\n",
        "substring = 'DID'\n",
        "\n",
        "def substring_count(string, substring):\n",
        "    l=len(substring)\n",
        "    count=0\n",
        "    for i in range(len(string)-len(substring)+1):\n",
        "        if(string[i:i+len(substring)] == substring ):      \n",
        "            count+=1\n",
        "    return count  \n",
        "\n",
        "print(substring_count(string, substring))\n",
        "## Expected Output: 3"
      ],
      "execution_count": 25,
      "outputs": [
        {
          "output_type": "stream",
          "name": "stdout",
          "text": [
            "3\n"
          ]
        }
      ]
    },
    {
      "cell_type": "markdown",
      "metadata": {
        "id": "kPc42YPuJdpw"
      },
      "source": [
        "Problem 2: How many different letters are there in the string?"
      ]
    },
    {
      "cell_type": "markdown",
      "metadata": {
        "id": "YtkU_gLYJdpx"
      },
      "source": [
        "Create a function called ```diff_letters``` that counts how many different letters are there in the input string.\n",
        "\n",
        "The input is just a single string.\n",
        "\n",
        "##### Example 1:\n",
        "\n",
        "Input: 'AAAAAAAAAB'\n",
        "\n",
        "Since there are only 2 different letters in the input string, the output is 2.\n",
        "\n",
        "When we run ```diff_letters```, the output is '2'.\n",
        "\n",
        "Output: 2\n",
        "\n",
        "##### Example 2:\n",
        "\n",
        "Input: 'ABCDAAAABBCCCE'\n",
        "\n",
        "Since there are 5 different letters in that string (A, B, C, D, E), the output is 5.\n",
        "\n",
        "Output: 5"
      ]
    },
    {
      "cell_type": "code",
      "metadata": {
        "id": "_BAImneoJdp0",
        "colab": {
          "base_uri": "https://localhost:8080/"
        },
        "outputId": "011fb5f2-9886-4cf9-8094-73cb6851da9b"
      },
      "source": [
        "### Write your code here ###\n",
        "# Create a function called diff_letters\n",
        "diff_letters(string)\n",
        "def diff_letters(string):\n",
        "  n=len(set(string))\n",
        "  return n\n",
        "print(diff_letters('AAAAAAAAAB'))"
      ],
      "execution_count": 146,
      "outputs": [
        {
          "output_type": "stream",
          "name": "stdout",
          "text": [
            "2\n"
          ]
        }
      ]
    },
    {
      "cell_type": "code",
      "source": [
        "### Write your code here ###\n",
        "# Create a function called diff_letter\n",
        "diff_letters(string)\n",
        "def diff_letters(string):\n",
        "  n=len(set(string))\n",
        "  return n\n",
        "print(diff_letters('ABCDAAAABBCCCE'))"
      ],
      "metadata": {
        "colab": {
          "base_uri": "https://localhost:8080/"
        },
        "id": "D55UIB229Wqz",
        "outputId": "095e3bc5-28d6-41f8-efd6-48bb94d2f376"
      },
      "execution_count": 145,
      "outputs": [
        {
          "output_type": "stream",
          "name": "stdout",
          "text": [
            "5\n"
          ]
        }
      ]
    },
    {
      "cell_type": "markdown",
      "source": [
        "Don't change the code below, please use it to check your answer"
      ],
      "metadata": {
        "id": "vGNB3RWOE1V9"
      }
    },
    {
      "cell_type": "code",
      "metadata": {
        "id": "LT1hElTkcwAE",
        "outputId": "02f4e01d-8fe6-4c76-fd26-d4dc969647e3",
        "colab": {
          "base_uri": "https://localhost:8080/"
        }
      },
      "source": [
        "def diff_letters(string):\n",
        "  n=len(set(string))\n",
        "  return n\n",
        "print(diff_letters('ABCDAAAABBCCCE'))\n",
        "## Expected output: 5"
      ],
      "execution_count": 144,
      "outputs": [
        {
          "output_type": "stream",
          "name": "stdout",
          "text": [
            "5\n"
          ]
        }
      ]
    },
    {
      "cell_type": "code",
      "metadata": {
        "id": "9jurQ9nucwAF",
        "outputId": "0259fc16-ea54-4abc-f39c-eeb1554bbd00",
        "colab": {
          "base_uri": "https://localhost:8080/"
        }
      },
      "source": [
        "diff_letters(string)\n",
        "def diff_letters(string):\n",
        "  n=len(set(string))\n",
        "  return n\n",
        "print(diff_letters('AAAAAAAAAAAAAABC'))\n",
        "\n",
        "## Expected output: 3"
      ],
      "execution_count": 143,
      "outputs": [
        {
          "output_type": "stream",
          "name": "stdout",
          "text": [
            "3\n"
          ]
        }
      ]
    },
    {
      "cell_type": "code",
      "metadata": {
        "id": "jlk1Eqo0cwAF",
        "outputId": "91f68967-1ccd-4d1d-f197-b2d818702d0b",
        "colab": {
          "base_uri": "https://localhost:8080/"
        }
      },
      "source": [
        "diff_letters(string)\n",
        "def diff_letters(string):\n",
        "  n=len(set(string))\n",
        "  return n\n",
        "print(diff_letters('AABBCCAAABBEEBBBAA'))\n",
        "\n",
        "## Expected output: 4"
      ],
      "execution_count": 142,
      "outputs": [
        {
          "output_type": "stream",
          "name": "stdout",
          "text": [
            "4\n"
          ]
        }
      ]
    },
    {
      "cell_type": "markdown",
      "metadata": {
        "id": "fiXI1RgZJdp3"
      },
      "source": [
        "Problem 3: Find Distance Between Two Coordinates - Medium"
      ]
    },
    {
      "cell_type": "markdown",
      "metadata": {
        "id": "TZx_zMmbJdp3"
      },
      "source": [
        "Create a function called ```distance``` that does the following:\n",
        "\n",
        "Given two coordinates in a list. Your task is to calculate the distance between these two coordinates. The input of your function will be a string. The coordinate that appears first is the first coordinate, and the coordinate that appears after the comma is the second coordinate.\n",
        "\n",
        "##### Example 1:\n",
        "\n",
        "Input: \n",
        "\n",
        "'(5,5), (1,2)'\n",
        "\n",
        "This means, the first point's coordinate is (5,5), the second point's coordinate is (1,2). To calculate the distance between these two points, we use the usual euclidean distance formula here: https://wikimedia.org/api/rest_v1/media/math/render/svg/2e0c9ce1b3455cb9e92c6bad6684dbda02f69c82. \n",
        "\n",
        "The distance is: \n",
        "\n",
        "Square root of ((5-1)^2 + (5-2)^2) = Square root of (16 + 9) = Square root of (25) = 5.\n",
        "\n",
        "Output: 'The distance is 5'\n",
        "\n",
        "So, when we run the code ```distance('(5,5),(1,2)')``` the output will be 'The distance is 5'.\n",
        "\n",
        "##### Example 2:\n",
        "\n",
        "Input:\n",
        "\n",
        "'(0,-1), (-3,2)'\n",
        "\n",
        "The first coordinate is (0,-1), the second coordinate is (-3,2). The distance between them is:\n",
        "\n",
        "Square root of ((0- -3)^2 + (-1-2)^2) = Square root of (9 + 9) = Square root of (18) = 4.242640687\n",
        "\n",
        "Output: 'The distance is 4.242640687'\n",
        "\n",
        "So, when we run the code ```distance('(0,-1),(-3,2)')``` the output will be 'The distance is 4.242640487'\n",
        "\n",
        "##### FAQ:\n",
        "\n",
        "- Question: \"Desimalnya dibuletin ga?\"\n",
        "- Answer: \"Ga usah peduliin format output desimalnya. Mau keluar berapa angka di belakang koma gpp kok. Yang penting value nya bener.\" \n",
        "- Question: \"Lha bedanya apa sama soal week 2?\"\n",
        "- Answer: \"Bedanya kali ini inputnya cuma 1, dan dia berupa teks (string), bukan list kyk minggu lalu. Semangat!\""
      ]
    },
    {
      "cell_type": "code",
      "source": [
        "import numpy as np"
      ],
      "metadata": {
        "id": "EjicAiIiASEb"
      },
      "execution_count": 35,
      "outputs": []
    },
    {
      "cell_type": "code",
      "source": [
        "# Create a function called distance\n",
        "def distance(string):\n",
        "  #Write your code here\n",
        "    "
      ],
      "metadata": {
        "id": "rrlIH5pjQe2M"
      },
      "execution_count": null,
      "outputs": []
    },
    {
      "cell_type": "markdown",
      "source": [
        "Don't change the code below, please use it to check your answer"
      ],
      "metadata": {
        "id": "ibPN_XMZE2Hs"
      }
    },
    {
      "cell_type": "code",
      "metadata": {
        "id": "PAd2yAlHcwAJ",
        "outputId": "1ff580f4-09e6-4fe2-f508-218a585175ab",
        "colab": {
          "base_uri": "https://localhost:8080/"
        }
      },
      "source": [
        "  def distance(string):\n",
        "    p1= int(string[1])\n",
        "    q1=int(string[7])\n",
        "    p2= int(string[3])\n",
        "    q2=int(string[9])\n",
        "    d = np.sqrt(( (q1-p1)**2)+((q2-p2)**2)) \n",
        "    return d \n",
        "\n",
        "print(\"The distance is \", distance('(5,5),(1,2)'))\n",
        "\n",
        "## Expected Output: 'The distance is 5.0'"
      ],
      "execution_count": 141,
      "outputs": [
        {
          "output_type": "stream",
          "name": "stdout",
          "text": [
            "The distance is  5.0\n"
          ]
        }
      ]
    },
    {
      "cell_type": "code",
      "metadata": {
        "id": "TV4dVgpFcwAJ",
        "outputId": "a29acb85-161c-4319-b496-e85c09bc2bb6",
        "colab": {
          "base_uri": "https://localhost:8080/"
        }
      },
      "source": [
        "def distance(string):\n",
        "  p1= -int(string[2])\n",
        "  q1=-int(string[9])\n",
        "  p2= int(string[4])\n",
        "  q2=int(string[11])\n",
        "  d = np.sqrt(( (q1-p1)**2)+((q2-p2)**2)) \n",
        "  return d \n",
        "\n",
        "print(\"The distance is \", distance('(-5,1),(-1,4)'))\n",
        "\n",
        "## Expected Output: 'The distance is 5.0'"
      ],
      "execution_count": 135,
      "outputs": [
        {
          "output_type": "stream",
          "name": "stdout",
          "text": [
            "The distance is  5.0\n"
          ]
        }
      ]
    },
    {
      "cell_type": "code",
      "metadata": {
        "id": "qWzdufrycwAJ",
        "outputId": "ad37e27a-2010-4157-f118-0117b8faa4e0",
        "colab": {
          "base_uri": "https://localhost:8080/"
        }
      },
      "source": [
        "\n",
        "def distance(string):\n",
        "  p1= -int(string[2])\n",
        "  q1=-int(string[9])\n",
        "  p2= int(string[4])\n",
        "  q2=-int(string[12])\n",
        "  d = np.sqrt(( (q1-p1)**2)+((q2-p2)**2)) \n",
        "  return d \n",
        "\n",
        "print(\"The distance is \", distance('(-8,5),(-2,-3)'))\n",
        "\n",
        "## Expected Output: 'The distance is 10.0'"
      ],
      "execution_count": 139,
      "outputs": [
        {
          "output_type": "stream",
          "name": "stdout",
          "text": [
            "The distance is  10.0\n"
          ]
        }
      ]
    }
  ]
}